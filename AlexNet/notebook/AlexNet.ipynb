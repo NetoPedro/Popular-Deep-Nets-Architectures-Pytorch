{
  "nbformat": 4,
  "nbformat_minor": 0,
  "metadata": {
    "kernelspec": {
      "name": "python3",
      "display_name": "Python 3"
    },
    "colab": {
      "name": "AlexNet.ipynb",
      "version": "0.3.2",
      "provenance": []
    },
    "accelerator": "GPU"
  },
  "cells": [
    {
      "cell_type": "code",
      "metadata": {
        "id": "RyNCl_djmf5R",
        "colab_type": "code",
        "colab": {}
      },
      "source": [
        "import torchvision\n",
        "import torch\n",
        "from torch import nn\n",
        "import matplotlib.pyplot as plt\n",
        "import numpy as np\n",
        "from torch import optim\n"
      ],
      "execution_count": 0,
      "outputs": []
    },
    {
      "cell_type": "code",
      "metadata": {
        "id": "reCNXHf4pTyo",
        "colab_type": "code",
        "colab": {}
      },
      "source": [
        "device = torch.device(\"cuda:0\" if torch.cuda.is_available() else \"cpu\")"
      ],
      "execution_count": 0,
      "outputs": []
    },
    {
      "cell_type": "code",
      "metadata": {
        "id": "u-BjMXEaoAik",
        "colab_type": "code",
        "colab": {}
      },
      "source": [
        "class To3Channels(object):\n",
        "    \"\"\"Convert ndarrays in sample to Tensors.\"\"\"\n",
        "\n",
        "    def __call__(self, sample):\n",
        "        if sample.shape[0] < 3:\n",
        "            sample = torch.squeeze(sample)\n",
        "            sample = torch.stack([sample, sample,sample], 0)\n",
        "\n",
        "        return sample"
      ],
      "execution_count": 0,
      "outputs": []
    },
    {
      "cell_type": "code",
      "metadata": {
        "id": "RdEC46rvmrf2",
        "colab_type": "code",
        "outputId": "f385075c-a82e-4f1a-b93f-42ebc00cd79d",
        "colab": {
          "base_uri": "https://localhost:8080/",
          "height": 85
        }
      },
      "source": [
        "transformer =  torchvision.transforms.Compose(\n",
        "    [torchvision.transforms.Resize(224),\n",
        "     torchvision.transforms.ToTensor(),\n",
        "     To3Channels(),\n",
        "     torchvision.transforms.Normalize((0.5,0.5,0.5),(0.5,0.5,0.5))])\n",
        "\n",
        "CIFAR10_train = torchvision.datasets.CIFAR10(\"../datasets/CIFAR10/\", train=True, transform=transformer, target_transform=None, download=True)\n",
        "CIFAR100_train = torchvision.datasets.CIFAR100(\"../datasets/CIFAR100/\", train=True, transform=transformer, target_transform=None, download=True)\n",
        "FashionMNIST_train = torchvision.datasets.FashionMNIST(\"../datasets/FashionMNIST/\", train=True, transform=transformer, target_transform=None, download=True)\n",
        "\n",
        "\n",
        "\n",
        "\n",
        "CIFAR10_test = torchvision.datasets.CIFAR10(\"../datasets/CIFAR10/\", train=False, transform=transformer, target_transform=None, download=True)\n",
        "CIFAR100_test = torchvision.datasets.CIFAR100(\"../datasets/CIFAR100/\", train=False, transform=transformer, target_transform=None, download=True)\n",
        "FashionMNIST_test = torchvision.datasets.FashionMNIST(\"../datasets/FashionMNIST/\", train=False, transform=transformer, target_transform=None, download=True)\n",
        "\n",
        "\n",
        "\n",
        "\n"
      ],
      "execution_count": 70,
      "outputs": [
        {
          "output_type": "stream",
          "text": [
            "Files already downloaded and verified\n",
            "Files already downloaded and verified\n",
            "Files already downloaded and verified\n",
            "Files already downloaded and verified\n"
          ],
          "name": "stdout"
        }
      ]
    },
    {
      "cell_type": "code",
      "metadata": {
        "id": "4-qyN6vbn8dM",
        "colab_type": "code",
        "colab": {}
      },
      "source": [
        "def get_loaders(dataset = \"CIFAR10\"):\n",
        "    train_loader = None\n",
        "    test_loader = None\n",
        "    labels_num = None\n",
        "\n",
        "    if dataset == \"CIFAR10\":\n",
        "        train_loader = torch.utils.data.DataLoader(CIFAR10_train, batch_size=128,\n",
        "                                          shuffle=True, num_workers=2)\n",
        "        test_loader = torch.utils.data.DataLoader(CIFAR10_test, batch_size=128,\n",
        "                                          shuffle=True, num_workers=2)\n",
        "        labels_num = 10#len(set(CIFAR10_train.train_labels))\n",
        "    elif dataset == \"CIFAR100\":\n",
        "        train_loader = torch.utils.data.DataLoader(CIFAR100_train, batch_size=64,\n",
        "                                                   shuffle=True, num_workers=2)\n",
        "        test_loader = torch.utils.data.DataLoader(CIFAR100_test, batch_size=64,\n",
        "                                                  shuffle=True, num_workers=2)\n",
        "        labels_num = 100\n",
        "\n",
        "    elif dataset == \"FASHION_MNIST\":\n",
        "        train_loader = torch.utils.data.DataLoader(FashionMNIST_train, batch_size=128,\n",
        "                                                   shuffle=True, num_workers=2)\n",
        "        test_loader = torch.utils.data.DataLoader(FashionMNIST_test, batch_size=128,\n",
        "                                                  shuffle=True, num_workers=2)\n",
        "        labels_num = len(set(FashionMNIST_train.train_labels))\n",
        "\n",
        "\n",
        "    return train_loader,test_loader,labels_num"
      ],
      "execution_count": 0,
      "outputs": []
    },
    {
      "cell_type": "code",
      "metadata": {
        "id": "f0qfwb7Un17p",
        "colab_type": "code",
        "colab": {}
      },
      "source": [
        "class AlexNet(nn.Module):\n",
        "\n",
        "    def __init__(self,num_classes):\n",
        "        super(AlexNet, self).__init__()\n",
        "\n",
        "        self.conv1 = nn.Conv2d(3,96,11,stride=4,padding=2)\n",
        "        self.actv1 = nn.ReLU()\n",
        "        # self.normalisation = nn.LocalResponseNorm()  ## Not used anymore\n",
        "        self.pool1 = nn.MaxPool2d(3,2)\n",
        "\n",
        "        self.conv2 = nn.Conv2d(96,256,5,stride=1,padding=2)\n",
        "        self.actv2 = nn.ReLU()\n",
        "        # self.normalisation = nn.LocalResponseNorm()  ## Not used anymore\n",
        "        self.pool2 = nn.MaxPool2d(3,2)\n",
        "\n",
        "        self.conv3 = nn.Conv2d(256,384,3,stride=1,padding=1)\n",
        "        self.actv3 = nn.ReLU()\n",
        "\n",
        "        self.conv4 = nn.Conv2d(384, 384, 3, stride=1, padding=1)\n",
        "        self.actv4 = nn.ReLU()\n",
        "\n",
        "        self.conv5 = nn.Conv2d(384, 256, 3, stride=1, padding=1)\n",
        "        self.actv5 = nn.ReLU()\n",
        "        self.pool5 = nn.MaxPool2d(3,2)\n",
        "\n",
        "        self.fc6 = nn.Linear(6*6*256,4096)\n",
        "        self.actv6 = nn.ReLU()\n",
        "        self.dropout6 = nn.Dropout(0.5)\n",
        "\n",
        "        self.fc7 = nn.Linear(4096, 4096)\n",
        "        self.actv7 = nn.ReLU()\n",
        "        self.dropout7 = nn.Dropout(0.5)\n",
        "\n",
        "        self.fc8 = nn.Linear(4096,num_classes)\n",
        "        #self.actv8 = nn.Softmax(dim=1)\n",
        "\n",
        "\n",
        "\n",
        "    def forward(self, x):\n",
        "\n",
        "        x = self.actv1(self.conv1(x))\n",
        "        x = self.pool1(x)\n",
        "\n",
        "        x = self.actv2(self.conv2(x))\n",
        "        x = self.pool2(x)\n",
        "\n",
        "        x = self.actv3(self.conv3(x))\n",
        "\n",
        "        x = self.actv4(self.conv4(x))\n",
        "\n",
        "        x = self.actv5(self.conv5(x))\n",
        "        x = self.pool5(x)\n",
        "\n",
        "        x = torch.flatten(x, start_dim=1)\n",
        "        x = self.dropout6(self.actv6(self.fc6(x)))\n",
        "\n",
        "        x = self.dropout7(self.actv7(self.fc7(x)))\n",
        "\n",
        "        #x = self.actv8(self.fc8(x))\n",
        "        x = self.fc8(x)\n",
        "        return x\n",
        "\n"
      ],
      "execution_count": 0,
      "outputs": []
    },
    {
      "cell_type": "code",
      "metadata": {
        "id": "_tqNq2UfoW_j",
        "colab_type": "code",
        "colab": {}
      },
      "source": [
        "def compute_accuracy(net, testloader):\n",
        "    net.eval()\n",
        "    correct = 0\n",
        "    total = 0\n",
        "    with torch.no_grad():\n",
        "        for images, labels in testloader:\n",
        "            images, labels = images.to(device), labels.to(device)\n",
        "            outputs = net(images)\n",
        "            _, predicted = torch.max(outputs.data, 1)\n",
        "            total += labels.size(0)\n",
        "            correct += (predicted == labels).sum().item()\n",
        "    return correct / total"
      ],
      "execution_count": 0,
      "outputs": []
    },
    {
      "cell_type": "code",
      "metadata": {
        "id": "WLUFPVaSoZ7c",
        "colab_type": "code",
        "colab": {}
      },
      "source": [
        "def train(net,trainloader,testloader,optim_name = \"adam\",epochs = 30):\n",
        "    optimizer = optim.Adam(net.parameters(),lr= 0.001,weight_decay=0.0005)\n",
        "    if optim_name == \"sgd\":\n",
        "        optimizer = optim.SGD(net.parameters(),0.001,0.9)\n",
        "\n",
        "    criterion = torch.nn.CrossEntropyLoss()\n",
        "    losses = []\n",
        "    accuracies = []\n",
        "    for epoch in range(epochs):\n",
        "        running_loss = 0.0\n",
        "        for i,data in enumerate(trainloader,0):\n",
        "            inputs, labels = data[0].to(device), data[1].to(device)\n",
        "\n",
        "            # zero the parameter gradients\n",
        "            optimizer.zero_grad()\n",
        "\n",
        "            # forward + backward + optimize\n",
        "            outputs = net(inputs)\n",
        "            loss = criterion(outputs, labels)\n",
        "            loss.backward()\n",
        "            optimizer.step()\n",
        "            running_loss += loss.item()\n",
        "            if i % 200 == 199:  # print every 100 mini-batches\n",
        "                print('[%d, %5d] loss: %.3f' %\n",
        "                      (epoch + 1, i + 1, running_loss / 200))\n",
        "                losses.append(running_loss/200)\n",
        "                running_loss = 0.0\n",
        "\n",
        "        accuracy = compute_accuracy(net,testloader)\n",
        "        accuracies.append(accuracy)\n",
        "        print('Accuracy of the network on the test images: %.3f' % accuracy)\n",
        "\n",
        "    return accuracies,losses\n"
      ],
      "execution_count": 0,
      "outputs": []
    },
    {
      "cell_type": "code",
      "metadata": {
        "id": "Yjho-fQAod41",
        "colab_type": "code",
        "colab": {}
      },
      "source": [
        "from google.colab import files\n",
        "def run(dataset = \"CIFAR10\",epochs = 30):\n",
        "    trainloader, testloader, num_classes = get_loaders(dataset)\n",
        "\n",
        "    net = AlexNet(num_classes)\n",
        "    net.to(device)\n",
        "\n",
        "    accuracies, losses = train(net, trainloader, testloader,epochs=epochs)\n",
        "\n",
        "    \n",
        "    \n",
        "    \n",
        "    f = plt.figure(1)\n",
        "    x = np.linspace(0, 1, len(losses))\n",
        "    plt.plot(x,losses)\n",
        "    f.show()\n",
        "\n",
        "    g = plt.figure(2)\n",
        "    x = np.linspace(0, 1, len(accuracies))\n",
        "    plt.plot(x, accuracies, figure = g)\n",
        "    g.show()\n",
        "    \n",
        "    \n",
        "\n",
        "    \n",
        "    #files.download( dataset + \"_loss.png\") \n",
        "    \n",
        "    \n",
        "    plt.show()\n",
        "    #files.download( dataset + \"_accuracy.png\")\n",
        "    \n",
        " "
      ],
      "execution_count": 0,
      "outputs": []
    },
    {
      "cell_type": "code",
      "metadata": {
        "id": "8XdVy8ITonJJ",
        "colab_type": "code",
        "colab": {
          "base_uri": "https://localhost:8080/",
          "height": 1000
        },
        "outputId": "635097a2-356c-4772-e077-a1052d558dd4"
      },
      "source": [
        "run(epochs=15)"
      ],
      "execution_count": 76,
      "outputs": [
        {
          "output_type": "stream",
          "text": [
            "[1,   200] loss: 2.018\n",
            "Accuracy of the network on the test images: 0.465\n",
            "[2,   200] loss: 1.361\n",
            "Accuracy of the network on the test images: 0.559\n",
            "[3,   200] loss: 1.089\n",
            "Accuracy of the network on the test images: 0.638\n",
            "[4,   200] loss: 0.933\n",
            "Accuracy of the network on the test images: 0.670\n",
            "[5,   200] loss: 0.831\n",
            "Accuracy of the network on the test images: 0.707\n",
            "[6,   200] loss: 0.745\n",
            "Accuracy of the network on the test images: 0.707\n",
            "[7,   200] loss: 0.686\n",
            "Accuracy of the network on the test images: 0.712\n",
            "[8,   200] loss: 0.626\n",
            "Accuracy of the network on the test images: 0.721\n",
            "[9,   200] loss: 0.575\n",
            "Accuracy of the network on the test images: 0.726\n",
            "[10,   200] loss: 0.526\n",
            "Accuracy of the network on the test images: 0.731\n",
            "[11,   200] loss: 0.474\n",
            "Accuracy of the network on the test images: 0.725\n",
            "[12,   200] loss: 0.434\n",
            "Accuracy of the network on the test images: 0.733\n",
            "[13,   200] loss: 0.410\n",
            "Accuracy of the network on the test images: 0.733\n",
            "[14,   200] loss: 0.361\n",
            "Accuracy of the network on the test images: 0.742\n",
            "[15,   200] loss: 0.329\n",
            "Accuracy of the network on the test images: 0.722\n"
          ],
          "name": "stdout"
        },
        {
          "output_type": "display_data",
          "data": {
            "image/png": "[encoded data removed]",
            "text/plain": [
              "<Figure size 432x288 with 1 Axes>"
            ]
          },
          "metadata": {
            "tags": []
          }
        },
        {
          "output_type": "display_data",
          "data": {
            "image/png": "[encoded data removed]",
            "text/plain": [
              "<Figure size 432x288 with 1 Axes>"
            ]
          },
          "metadata": {
            "tags": []
          }
        }
      ]
    },
    {
      "cell_type": "code",
      "metadata": {
        "id": "Zy25VbrhonN8",
        "colab_type": "code",
        "colab": {
          "base_uri": "https://localhost:8080/",
          "height": 1000
        },
        "outputId": "303a4c4d-5a6e-4579-f414-368eb893b564"
      },
      "source": [
        "run(\"CIFAR100\",30)"
      ],
      "execution_count": 77,
      "outputs": [
        {
          "output_type": "stream",
          "text": [
            "[1,   200] loss: 4.614\n",
            "[1,   400] loss: 4.547\n",
            "[1,   600] loss: 4.316\n",
            "Accuracy of the network on the test images: 0.067\n",
            "[2,   200] loss: 3.987\n",
            "[2,   400] loss: 3.852\n",
            "[2,   600] loss: 3.716\n",
            "Accuracy of the network on the test images: 0.140\n",
            "[3,   200] loss: 3.512\n",
            "[3,   400] loss: 3.433\n",
            "[3,   600] loss: 3.411\n",
            "Accuracy of the network on the test images: 0.193\n",
            "[4,   200] loss: 3.218\n",
            "[4,   400] loss: 3.164\n",
            "[4,   600] loss: 3.139\n",
            "Accuracy of the network on the test images: 0.218\n",
            "[5,   200] loss: 2.985\n",
            "[5,   400] loss: 2.983\n",
            "[5,   600] loss: 2.962\n",
            "Accuracy of the network on the test images: 0.253\n",
            "[6,   200] loss: 2.845\n",
            "[6,   400] loss: 2.815\n",
            "[6,   600] loss: 2.812\n",
            "Accuracy of the network on the test images: 0.277\n",
            "[7,   200] loss: 2.640\n",
            "[7,   400] loss: 2.713\n",
            "[7,   600] loss: 2.704\n",
            "Accuracy of the network on the test images: 0.291\n",
            "[8,   200] loss: 2.534\n",
            "[8,   400] loss: 2.579\n",
            "[8,   600] loss: 2.602\n",
            "Accuracy of the network on the test images: 0.296\n",
            "[9,   200] loss: 2.425\n",
            "[9,   400] loss: 2.462\n",
            "[9,   600] loss: 2.459\n",
            "Accuracy of the network on the test images: 0.316\n",
            "[10,   200] loss: 2.300\n",
            "[10,   400] loss: 2.319\n",
            "[10,   600] loss: 2.421\n",
            "Accuracy of the network on the test images: 0.322\n",
            "[11,   200] loss: 2.188\n",
            "[11,   400] loss: 2.244\n",
            "[11,   600] loss: 2.268\n",
            "Accuracy of the network on the test images: 0.324\n",
            "[12,   200] loss: 2.034\n",
            "[12,   400] loss: 2.121\n",
            "[12,   600] loss: 2.188\n",
            "Accuracy of the network on the test images: 0.311\n",
            "[13,   200] loss: 1.927\n",
            "[13,   400] loss: 2.007\n",
            "[13,   600] loss: 2.084\n",
            "Accuracy of the network on the test images: 0.320\n",
            "[14,   200] loss: 1.815\n",
            "[14,   400] loss: 1.909\n",
            "[14,   600] loss: 1.945\n",
            "Accuracy of the network on the test images: 0.315\n",
            "[15,   200] loss: 1.683\n",
            "[15,   400] loss: 1.791\n",
            "[15,   600] loss: 1.858\n",
            "Accuracy of the network on the test images: 0.318\n",
            "[16,   200] loss: 1.565\n",
            "[16,   400] loss: 1.677\n",
            "[16,   600] loss: 1.756\n",
            "Accuracy of the network on the test images: 0.319\n",
            "[17,   200] loss: 1.457\n",
            "[17,   400] loss: 1.600\n",
            "[17,   600] loss: 1.672\n",
            "Accuracy of the network on the test images: 0.312\n",
            "[18,   200] loss: 1.357\n",
            "[18,   400] loss: 1.465\n",
            "[18,   600] loss: 1.557\n",
            "Accuracy of the network on the test images: 0.312\n",
            "[19,   200] loss: 1.227\n",
            "[19,   400] loss: 1.401\n",
            "[19,   600] loss: 1.451\n",
            "Accuracy of the network on the test images: 0.309\n",
            "[20,   200] loss: 1.125\n",
            "[20,   400] loss: 1.279\n",
            "[20,   600] loss: 1.356\n",
            "Accuracy of the network on the test images: 0.300\n",
            "[21,   200] loss: 1.059\n",
            "[21,   400] loss: 1.199\n",
            "[21,   600] loss: 1.317\n",
            "Accuracy of the network on the test images: 0.308\n",
            "[22,   200] loss: 0.984\n",
            "[22,   400] loss: 1.122\n",
            "[22,   600] loss: 1.233\n",
            "Accuracy of the network on the test images: 0.296\n",
            "[23,   200] loss: 0.898\n",
            "[23,   400] loss: 1.063\n",
            "[23,   600] loss: 1.156\n",
            "Accuracy of the network on the test images: 0.293\n",
            "[24,   200] loss: 0.843\n",
            "[24,   400] loss: 1.032\n",
            "[24,   600] loss: 1.090\n",
            "Accuracy of the network on the test images: 0.300\n",
            "[25,   200] loss: 0.770\n",
            "[25,   400] loss: 0.917\n",
            "[25,   600] loss: 1.032\n",
            "Accuracy of the network on the test images: 0.287\n",
            "[26,   200] loss: 0.732\n",
            "[26,   400] loss: 0.892\n",
            "[26,   600] loss: 0.993\n",
            "Accuracy of the network on the test images: 0.290\n",
            "[27,   200] loss: 0.699\n",
            "[27,   400] loss: 0.848\n",
            "[27,   600] loss: 0.952\n",
            "Accuracy of the network on the test images: 0.290\n",
            "[28,   200] loss: 0.654\n",
            "[28,   400] loss: 0.820\n",
            "[28,   600] loss: 0.939\n",
            "Accuracy of the network on the test images: 0.292\n",
            "[29,   200] loss: 0.668\n",
            "[29,   400] loss: 0.774\n",
            "[29,   600] loss: 0.887\n",
            "Accuracy of the network on the test images: 0.289\n",
            "[30,   200] loss: 0.603\n",
            "[30,   400] loss: 0.723\n",
            "[30,   600] loss: 0.872\n",
            "Accuracy of the network on the test images: 0.286\n"
          ],
          "name": "stdout"
        },
        {
          "output_type": "display_data",
          "data": {
            "image/png": "[encoded data removed]",
            "text/plain": [
              "<Figure size 432x288 with 1 Axes>"
            ]
          },
          "metadata": {
            "tags": []
          }
        },
        {
          "output_type": "display_data",
          "data": {
            "image/png": "[encoded data removed]",
            "text/plain": [
              "<Figure size 432x288 with 1 Axes>"
            ]
          },
          "metadata": {
            "tags": []
          }
        }
      ]
    },
    {
      "cell_type": "code",
      "metadata": {
        "id": "7cU-2CjsonS4",
        "colab_type": "code",
        "colab": {
          "base_uri": "https://localhost:8080/",
          "height": 810
        },
        "outputId": "ea8c5f9b-5c99-4a93-8d88-1d4b77e05df9"
      },
      "source": [
        "run(\"FASHION_MNIST\",5)"
      ],
      "execution_count": 78,
      "outputs": [
        {
          "output_type": "stream",
          "text": [
            "/usr/local/lib/python3.6/dist-packages/torchvision/datasets/mnist.py:43: UserWarning: train_labels has been renamed targets\n",
            "  warnings.warn(\"train_labels has been renamed targets\")\n"
          ],
          "name": "stderr"
        },
        {
          "output_type": "stream",
          "text": [
            "[1,   200] loss: 2.486\n",
            "[1,   400] loss: 0.574\n",
            "Accuracy of the network on the test images: 0.838\n",
            "[2,   200] loss: 0.385\n",
            "[2,   400] loss: 0.363\n",
            "Accuracy of the network on the test images: 0.872\n",
            "[3,   200] loss: 0.323\n",
            "[3,   400] loss: 0.317\n",
            "Accuracy of the network on the test images: 0.879\n",
            "[4,   200] loss: 0.288\n",
            "[4,   400] loss: 0.290\n",
            "Accuracy of the network on the test images: 0.886\n",
            "[5,   200] loss: 0.261\n",
            "[5,   400] loss: 0.272\n",
            "Accuracy of the network on the test images: 0.894\n"
          ],
          "name": "stdout"
        },
        {
          "output_type": "display_data",
          "data": {
            "image/png": "[encoded data removed]",
            "text/plain": [
              "<Figure size 432x288 with 1 Axes>"
            ]
          },
          "metadata": {
            "tags": []
          }
        },
        {
          "output_type": "display_data",
          "data": {
            "image/png": "[encoded data removed]",
            "text/plain": [
              "<Figure size 432x288 with 1 Axes>"
            ]
          },
          "metadata": {
            "tags": []
          }
        }
      ]
    }
  ]
}