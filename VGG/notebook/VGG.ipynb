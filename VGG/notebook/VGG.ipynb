{
  "nbformat": 4,
  "nbformat_minor": 0,
  "metadata": {
    "kernelspec": {
      "name": "python3",
      "display_name": "Python 3"
    },
    "colab": {
      "name": "AlexNet.ipynb",
      "provenance": []
    },
    "accelerator": "GPU"
  },
  "cells": [
    {
      "cell_type": "code",
      "metadata": {
        "id": "RyNCl_djmf5R",
        "colab_type": "code",
        "colab": {}
      },
      "source": [
        "import torchvision\n",
        "import torch\n",
        "from torch import nn\n",
        "import matplotlib.pyplot as plt\n",
        "import numpy as np\n",
        "from torch import optim\n"
      ],
      "execution_count": 0,
      "outputs": []
    },
    {
      "cell_type": "code",
      "metadata": {
        "id": "reCNXHf4pTyo",
        "colab_type": "code",
        "colab": {}
      },
      "source": [
        "device = torch.device(\"cuda:0\" if torch.cuda.is_available() else \"cpu\")"
      ],
      "execution_count": 0,
      "outputs": []
    },
    {
      "cell_type": "code",
      "metadata": {
        "id": "u-BjMXEaoAik",
        "colab_type": "code",
        "colab": {}
      },
      "source": [
        "class To3Channels(object):\n",
        "    \"\"\"Convert ndarrays in sample to Tensors.\"\"\"\n",
        "\n",
        "    def __call__(self, sample):\n",
        "        if sample.shape[0] < 3:\n",
        "            sample = torch.squeeze(sample)\n",
        "            sample = torch.stack([sample, sample,sample], 0)\n",
        "\n",
        "        return sample"
      ],
      "execution_count": 0,
      "outputs": []
    },
    {
      "cell_type": "code",
      "metadata": {
        "id": "RdEC46rvmrf2",
        "colab_type": "code",
        "outputId": "28075004-61e3-4eb2-ebd7-22a26da35e4f",
        "colab": {
          "base_uri": "https://localhost:8080/",
          "height": 85
        }
      },
      "source": [
        "transformer =  torchvision.transforms.Compose(\n",
        "    [\n",
        "     torchvision.transforms.ToTensor()])\n",
        "     #To3Channels(),\n",
        "     #torchvision.transforms.Normalize((0.5,0.5,0.5),(0.5,0.5,0.5))])\n",
        "\n",
        "CIFAR10_train = torchvision.datasets.CIFAR10(\"../datasets/CIFAR10/\", train=True, transform=transformer, target_transform=None, download=True)\n",
        "CIFAR100_train = torchvision.datasets.CIFAR100(\"../datasets/CIFAR100/\", train=True, transform=transformer, target_transform=None, download=True)\n",
        "FashionMNIST_train = torchvision.datasets.FashionMNIST(\"../datasets/FashionMNIST/\", train=True, transform=transformer, target_transform=None, download=True)\n",
        "\n",
        "\n",
        "\n",
        "\n",
        "CIFAR10_test = torchvision.datasets.CIFAR10(\"../datasets/CIFAR10/\", train=False, transform=transformer, target_transform=None, download=True)\n",
        "CIFAR100_test = torchvision.datasets.CIFAR100(\"../datasets/CIFAR100/\", train=False, transform=transformer, target_transform=None, download=True)\n",
        "FashionMNIST_test = torchvision.datasets.FashionMNIST(\"../datasets/FashionMNIST/\", train=False, transform=transformer, target_transform=None, download=True)\n",
        "\n",
        "\n",
        "\n",
        "\n"
      ],
      "execution_count": 0,
      "outputs": [
        {
          "output_type": "stream",
          "text": [
            "Files already downloaded and verified\n",
            "Files already downloaded and verified\n",
            "Files already downloaded and verified\n",
            "Files already downloaded and verified\n"
          ],
          "name": "stdout"
        }
      ]
    },
    {
      "cell_type": "code",
      "metadata": {
        "id": "4-qyN6vbn8dM",
        "colab_type": "code",
        "colab": {}
      },
      "source": [
        "def get_loaders(dataset = \"CIFAR10\"):\n",
        "    train_loader = None\n",
        "    test_loader = None\n",
        "    labels_num = None\n",
        "\n",
        "    if dataset == \"CIFAR10\":\n",
        "        train_loader = torch.utils.data.DataLoader(CIFAR10_train, batch_size=64,\n",
        "                                          shuffle=True, num_workers=2)\n",
        "        test_loader = torch.utils.data.DataLoader(CIFAR10_test, batch_size=64,\n",
        "                                          shuffle=True, num_workers=2)\n",
        "        labels_num = 10#len(set(CIFAR10_train.train_labels))\n",
        "    elif dataset == \"CIFAR100\":\n",
        "        train_loader = torch.utils.data.DataLoader(CIFAR100_train, batch_size=32,\n",
        "                                                   shuffle=True, num_workers=2)\n",
        "        test_loader = torch.utils.data.DataLoader(CIFAR100_test, batch_size=2,\n",
        "                                                  shuffle=True, num_workers=2)\n",
        "        labels_num = 100\n",
        "\n",
        "    elif dataset == \"FASHION_MNIST\":\n",
        "        train_loader = torch.utils.data.DataLoader(FashionMNIST_train, batch_size=64,\n",
        "                                                   shuffle=True, num_workers=2)\n",
        "        test_loader = torch.utils.data.DataLoader(FashionMNIST_test, batch_size=64,\n",
        "                                                  shuffle=True, num_workers=2)\n",
        "        labels_num = len(set(FashionMNIST_train.train_labels))\n",
        "\n",
        "\n",
        "    return train_loader,test_loader,labels_num"
      ],
      "execution_count": 0,
      "outputs": []
    },
    {
      "cell_type": "code",
      "metadata": {
        "id": "f0qfwb7Un17p",
        "colab_type": "code",
        "colab": {}
      },
      "source": [
        "class VGG16(nn.Module):\n",
        "    def __init__(self,num_classes):\n",
        "        super(VGG16, self).__init__()\n",
        "\n",
        "        self.conv1_1 = nn.Conv2d(in_channels=1,out_channels=16,kernel_size=3,stride=1,padding=1)\n",
        "        nn.init.xavier_uniform_(self.conv1_1.weight)\n",
        "        self.actv1_1 = nn.ReLU()\n",
        "        self.conv1_2 = nn.Conv2d(in_channels=16,out_channels=16,kernel_size=3,stride=1,padding=1)\n",
        "        nn.init.xavier_uniform_(self.conv1_2.weight)\n",
        "        self.actv1_2 = nn.ReLU()\n",
        "        self.pool1 = nn.MaxPool2d(stride=2,kernel_size=2)\n",
        "\n",
        "        self.conv2_1 = nn.Conv2d(in_channels=16,out_channels=32,kernel_size=3,stride=1,padding=1)\n",
        "        nn.init.xavier_uniform_(self.conv2_1.weight)\n",
        "        self.actv2_1 = nn.ReLU()\n",
        "        self.conv2_2 = nn.Conv2d(in_channels=32,out_channels=32,kernel_size=3,stride=1,padding=1)\n",
        "        nn.init.xavier_uniform_(self.conv2_2.weight)\n",
        "        self.actv2_2 = nn.ReLU()\n",
        "        self.pool2 = nn.MaxPool2d(stride=2,kernel_size=2)\n",
        "\n",
        "        self.conv3_1 = nn.Conv2d(in_channels=32,out_channels=64,kernel_size=3,stride=1,padding=1)\n",
        "        nn.init.xavier_uniform_(self.conv3_1.weight)\n",
        "        self.actv3_1 = nn.ReLU()\n",
        "        self.conv3_2 = nn.Conv2d(in_channels=64,out_channels=64,kernel_size=3,stride=1,padding=1)\n",
        "        nn.init.xavier_uniform_(self.conv3_2.weight)\n",
        "        self.actv3_2 = nn.ReLU()\n",
        "        self.conv3_3 = nn.Conv2d(in_channels=64,out_channels=64,kernel_size=3,stride=1,padding=1)\n",
        "        nn.init.xavier_uniform_(self.conv3_3.weight)\n",
        "        self.actv3_3 = nn.ReLU()\n",
        "        self.pool3 = nn.MaxPool2d(stride=2,kernel_size=2)\n",
        "\n",
        "        self.conv4_1 = nn.Conv2d(in_channels=256,out_channels=512,kernel_size=3,stride=1,padding=1)\n",
        "        nn.init.xavier_uniform_(self.conv4_1.weight)\n",
        "        self.actv4_1 = nn.ReLU()\n",
        "        self.conv4_2 = nn.Conv2d(in_channels=512,out_channels=512,kernel_size=3,stride=1,padding=1)\n",
        "        nn.init.xavier_uniform_(self.conv4_2.weight)\n",
        "        self.actv4_2 = nn.ReLU()\n",
        "        self.conv4_3 = nn.Conv2d(in_channels=512,out_channels=512,kernel_size=3,stride=1,padding=1)\n",
        "        nn.init.xavier_uniform_(self.conv4_3.weight)\n",
        "        self.actv4_3 = nn.ReLU()\n",
        "        self.pool4 = nn.MaxPool2d(stride=2,kernel_size=2)\n",
        "\n",
        "        self.conv5_1 = nn.Conv2d(in_channels=512,out_channels=512,kernel_size=3,stride=1,padding=1)\n",
        "        nn.init.xavier_uniform_(self.conv5_1.weight)\n",
        "        self.actv5_1 = nn.ReLU()\n",
        "        self.conv5_2 = nn.Conv2d(in_channels=512,out_channels=512,kernel_size=3,stride=1,padding=1)\n",
        "        nn.init.xavier_uniform_(self.conv5_2.weight)\n",
        "        self.actv5_2 = nn.ReLU()\n",
        "        self.conv5_3 = nn.Conv2d(in_channels=512,out_channels=512,kernel_size=3,stride=1,padding=1)\n",
        "        nn.init.xavier_uniform_(self.conv5_3.weight)\n",
        "        self.actv5_3 = nn.ReLU()\n",
        "        self.pool5 = nn.MaxPool2d(stride=2,kernel_size=2)\n",
        "\n",
        "        self.fc6 = nn.Linear(3*3*64,1000)\n",
        "        nn.init.xavier_uniform_(self.fc6.weight)\n",
        "        \n",
        "        self.actv6 = nn.ReLU()\n",
        "        self.dropout6 = nn.Dropout(0.5)\n",
        "\n",
        "        self.fc7 = nn.Linear(1000,1000)\n",
        "        nn.init.xavier_uniform_(self.fc7.weight)\n",
        "        \n",
        "        self.actv7 = nn.ReLU()\n",
        "        self.dropout7 = nn.Dropout(0.5)\n",
        "\n",
        "        self.fc8 = nn.Linear(7*7*32,num_classes)\n",
        "        nn.init.xavier_uniform_(self.fc8.weight)\n",
        "        \n",
        "\n",
        "    def forward(self, x):\n",
        "\n",
        "        x = self.actv1_1(self.conv1_1(x))\n",
        "        x = self.actv1_2(self.conv1_2(x))\n",
        "        x = self.pool1(x)\n",
        "\n",
        "        x = self.actv2_1(self.conv2_1(x))\n",
        "        x = self.actv2_2(self.conv2_2(x))\n",
        "        x = self.pool2(x)\n",
        "\n",
        "        x = self.actv3_1(self.conv3_1(x))\n",
        "        x = self.actv3_2(self.conv3_2(x))\n",
        "        x = self.actv3_3(self.conv3_3(x))\n",
        "        x = self.pool3(x)\n",
        "\n",
        "        x = self.actv4_1(self.conv4_1(x))\n",
        "        x = self.actv4_2(self.conv4_2(x))\n",
        "        x = self.actv4_3(self.conv4_3(x))\n",
        "        x = self.pool4(x)\n",
        "\n",
        "        x = self.actv5_1(self.conv5_1(x))\n",
        "        x = self.actv5_2(self.conv5_2(x))\n",
        "        x = self.actv5_3(self.conv5_3(x))\n",
        "        x = self.pool5(x)\n",
        "\n",
        "        x = torch.flatten(x, start_dim=1)\n",
        "\n",
        "        x = self.actv6(self.fc6(x))\n",
        "\n",
        "        x = self.actv7(self.fc7(x))\n",
        "\n",
        "        x =  self.fc8(x)\n",
        "        return x\n",
        "   \n",
        "\n"
      ],
      "execution_count": 0,
      "outputs": []
    },
    {
      "cell_type": "code",
      "metadata": {
        "id": "_tqNq2UfoW_j",
        "colab_type": "code",
        "colab": {}
      },
      "source": [
        "def compute_accuracy(net, testloader):\n",
        "    net.eval()\n",
        "    correct = 0\n",
        "    total = 0\n",
        "    with torch.no_grad():\n",
        "        for images, labels in testloader:\n",
        "            images, labels = images.to(device), labels.to(device)\n",
        "            outputs = net(images)\n",
        "            _, predicted = torch.max(outputs.data, 1)\n",
        "            total += labels.size(0)\n",
        "            correct += (predicted == labels).sum().item()\n",
        "    return correct / total"
      ],
      "execution_count": 0,
      "outputs": []
    },
    {
      "cell_type": "code",
      "metadata": {
        "id": "WLUFPVaSoZ7c",
        "colab_type": "code",
        "colab": {}
      },
      "source": [
        "def train(net,trainloader,testloader,optim_name = \"adam\",epochs = 30):\n",
        "    optimizer = optim.Adam(net.parameters(),lr= 0.01,weight_decay=0.0005)\n",
        "    if optim_name == \"sgd\":\n",
        "        optimizer = optim.SGD(net.parameters(),0.01,0.9)\n",
        "\n",
        "    criterion = torch.nn.CrossEntropyLoss()\n",
        "    losses = []\n",
        "    accuracies = []\n",
        "    for epoch in range(epochs):\n",
        "        running_loss = 0.0\n",
        "        net.train()\n",
        "        for i,data in enumerate(trainloader,0):\n",
        "            inputs, labels = data[0].to(device), data[1].to(device)\n",
        "\n",
        "            # zero the parameter gradients\n",
        "            optimizer.zero_grad()\n",
        "\n",
        "            # forward + backward + optimize\n",
        "            outputs = net(inputs)\n",
        "            loss = criterion(outputs, labels)\n",
        "            loss.backward()\n",
        "            optimizer.step()\n",
        "            running_loss += loss.item()\n",
        "            if i % 200 == 199:  # print every 100 mini-batches\n",
        "                print('[%d, %5d] loss: %.3f' %\n",
        "                      (epoch + 1, i + 1, running_loss / 200))\n",
        "                losses.append(running_loss/200)\n",
        "                running_loss = 0.0\n",
        "\n",
        "        accuracy = compute_accuracy(net,testloader)\n",
        "        accuracies.append(accuracy)\n",
        "        print('Accuracy of the network on the test images: %.3f' % accuracy)\n",
        "\n",
        "    return accuracies,losses\n"
      ],
      "execution_count": 0,
      "outputs": []
    },
    {
      "cell_type": "code",
      "metadata": {
        "id": "Yjho-fQAod41",
        "colab_type": "code",
        "colab": {}
      },
      "source": [
        "from google.colab import files\n",
        "def run(dataset = \"CIFAR10\",epochs = 30):\n",
        "    trainloader, testloader, num_classes = get_loaders(dataset)\n",
        "\n",
        "    net = VGG16(num_classes)\n",
        "    net.to(device)\n",
        "\n",
        "    accuracies, losses = train(net, trainloader, testloader,optim_name = \"sgd\",epochs=epochs)\n",
        "\n",
        "    \n",
        "    \n",
        "    \n",
        "    f = plt.figure(1)\n",
        "    x = np.linspace(0, 1, len(losses))\n",
        "    plt.plot(x,losses)\n",
        "    f.show()\n",
        "\n",
        "    g = plt.figure(2)\n",
        "    x = np.linspace(0, 1, len(accuracies))\n",
        "    plt.plot(x, accuracies, figure = g)\n",
        "    g.show()\n",
        "    \n",
        "    \n",
        "\n",
        "    \n",
        "    #files.download( dataset + \"_loss.png\") \n",
        "    \n",
        "    \n",
        "    plt.show()\n",
        "    #files.download( dataset + \"_accuracy.png\")\n",
        "    \n",
        " "
      ],
      "execution_count": 0,
      "outputs": []
    },
    {
      "cell_type": "code",
      "metadata": {
        "id": "8XdVy8ITonJJ",
        "colab_type": "code",
        "colab": {}
      },
      "source": [
        "#run(epochs=15)"
      ],
      "execution_count": 0,
      "outputs": []
    },
    {
      "cell_type": "code",
      "metadata": {
        "id": "Zy25VbrhonN8",
        "colab_type": "code",
        "colab": {}
      },
      "source": [
        "#run(\"CIFAR100\",30)"
      ],
      "execution_count": 0,
      "outputs": []
    },
    {
      "cell_type": "code",
      "metadata": {
        "id": "7cU-2CjsonS4",
        "colab_type": "code",
        "outputId": "996f708a-dc81-4e8f-cc46-eed1bf4ce2b2",
        "colab": {
          "base_uri": "https://localhost:8080/",
          "height": 1000
        }
      },
      "source": [
        "run(\"FASHION_MNIST\",15)"
      ],
      "execution_count": 0,
      "outputs": [
        {
          "output_type": "stream",
          "text": [
            "/usr/local/lib/python3.6/dist-packages/torchvision/datasets/mnist.py:43: UserWarning: train_labels has been renamed targets\n",
            "  warnings.warn(\"train_labels has been renamed targets\")\n"
          ],
          "name": "stderr"
        },
        {
          "output_type": "stream",
          "text": [
            "[1,   200] loss: 4.219\n",
            "[1,   400] loss: 2.345\n",
            "[1,   600] loss: 1.115\n",
            "[1,   800] loss: 0.601\n",
            "Accuracy of the network on the test images: 0.806\n",
            "[2,   200] loss: 0.491\n",
            "[2,   400] loss: 0.429\n",
            "[2,   600] loss: 0.413\n",
            "[2,   800] loss: 0.407\n",
            "Accuracy of the network on the test images: 0.847\n",
            "[3,   200] loss: 0.370\n",
            "[3,   400] loss: 0.369\n",
            "[3,   600] loss: 0.362\n",
            "[3,   800] loss: 0.346\n",
            "Accuracy of the network on the test images: 0.867\n",
            "[4,   200] loss: 0.335\n",
            "[4,   400] loss: 0.322\n",
            "[4,   600] loss: 0.318\n",
            "[4,   800] loss: 0.321\n",
            "Accuracy of the network on the test images: 0.869\n",
            "[5,   200] loss: 0.313\n",
            "[5,   400] loss: 0.306\n",
            "[5,   600] loss: 0.310\n",
            "[5,   800] loss: 0.299\n",
            "Accuracy of the network on the test images: 0.880\n",
            "[6,   200] loss: 0.294\n",
            "[6,   400] loss: 0.297\n",
            "[6,   600] loss: 0.285\n",
            "[6,   800] loss: 0.287\n",
            "Accuracy of the network on the test images: 0.888\n",
            "[7,   200] loss: 0.268\n",
            "[7,   400] loss: 0.278\n",
            "[7,   600] loss: 0.297\n",
            "[7,   800] loss: 0.282\n",
            "Accuracy of the network on the test images: 0.887\n",
            "[8,   200] loss: 0.273\n",
            "[8,   400] loss: 0.271\n",
            "[8,   600] loss: 0.267\n",
            "[8,   800] loss: 0.269\n",
            "Accuracy of the network on the test images: 0.889\n",
            "[9,   200] loss: 0.257\n",
            "[9,   400] loss: 0.269\n",
            "[9,   600] loss: 0.269\n",
            "[9,   800] loss: 0.255\n",
            "Accuracy of the network on the test images: 0.894\n",
            "[10,   200] loss: 0.248\n",
            "[10,   400] loss: 0.248\n",
            "[10,   600] loss: 0.255\n",
            "[10,   800] loss: 0.262\n",
            "Accuracy of the network on the test images: 0.892\n",
            "[11,   200] loss: 0.246\n",
            "[11,   400] loss: 0.238\n",
            "[11,   600] loss: 0.250\n",
            "[11,   800] loss: 0.259\n",
            "Accuracy of the network on the test images: 0.900\n",
            "[12,   200] loss: 0.231\n",
            "[12,   400] loss: 0.250\n",
            "[12,   600] loss: 0.240\n",
            "[12,   800] loss: 0.243\n",
            "Accuracy of the network on the test images: 0.897\n",
            "[13,   200] loss: 0.230\n",
            "[13,   400] loss: 0.229\n",
            "[13,   600] loss: 0.234\n",
            "[13,   800] loss: 0.235\n",
            "Accuracy of the network on the test images: 0.897\n",
            "[14,   200] loss: 0.214\n",
            "[14,   400] loss: 0.229\n",
            "[14,   600] loss: 0.231\n",
            "[14,   800] loss: 0.231\n",
            "Accuracy of the network on the test images: 0.896\n",
            "[15,   200] loss: 0.229\n",
            "[15,   400] loss: 0.224\n",
            "[15,   600] loss: 0.225\n",
            "[15,   800] loss: 0.216\n",
            "Accuracy of the network on the test images: 0.896\n"
          ],
          "name": "stdout"
        },
        {
          "output_type": "display_data",
          "data": {
            "image/png": "[encoded data removed]",
            "text/plain": [
              "<Figure size 432x288 with 1 Axes>"
            ]
          },
          "metadata": {
            "tags": []
          }
        },
        {
          "output_type": "display_data",
          "data": {
            "image/png": "[encoded data removed]",
            "text/plain": [
              "<Figure size 432x288 with 1 Axes>"
            ]
          },
          "metadata": {
            "tags": []
          }
        }
      ]
    }
  ]
}